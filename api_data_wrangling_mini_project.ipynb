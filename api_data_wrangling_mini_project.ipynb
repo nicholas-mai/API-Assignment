{
 "cells": [
  {
   "cell_type": "markdown",
   "metadata": {},
   "source": [
    "This exercise will require you to pull some data from https://data.nasdaq.com/ (formerly Quandl API)."
   ]
  },
  {
   "cell_type": "markdown",
   "metadata": {},
   "source": [
    "As a first step, you will need to register a free account on the https://data.nasdaq.com/ website."
   ]
  },
  {
   "cell_type": "markdown",
   "metadata": {},
   "source": [
    "After you register, you will be provided with a unique API key, that you should store:\n",
    "\n",
    "*Note*: Use a `.env` file and put your key in there and `python-dotenv` to access it in this notebook. \n",
    "\n",
    "The code below uses a key that was used when generating this project but has since been deleted. Never submit your keys to source control. There is a `.env-example` file in this repository to illusrtate what you need. Copy that to a file called `.env` and use your own api key in that `.env` file. Make sure you also have a `.gitignore` file with a line for `.env` added to it. \n",
    "\n",
    "The standard Python gitignore is [here](https://github.com/github/gitignore/blob/master/Python.gitignore) you can just copy that. "
   ]
  },
  {
   "cell_type": "code",
   "execution_count": 1,
   "metadata": {},
   "outputs": [
    {
     "name": "stdout",
     "output_type": "stream",
     "text": [
      "ss3A5P_HP1xmffvhnbzG\n"
     ]
    }
   ],
   "source": [
    "# get api key from your .env file\n",
    "import os\n",
    "from dotenv import load_dotenv\n",
    "\n",
    "load_dotenv()\n",
    "API_KEY = os.getenv('NASDAQ_API_KEY')\n",
    "\n",
    "print(API_KEY)"
   ]
  },
  {
   "cell_type": "markdown",
   "metadata": {},
   "source": [
    "Nasdaq Data has a large number of data sources, but, unfortunately, most of them require a Premium subscription. Still, there are also a good number of free datasets."
   ]
  },
  {
   "cell_type": "markdown",
   "metadata": {},
   "source": [
    "For this mini project, we will focus on equities data from the Frankfurt Stock Exhange (FSE), which is available for free. We'll try and analyze the stock prices of a company called Carl Zeiss Meditec, which manufactures tools for eye examinations, as well as medical lasers for laser eye surgery: https://www.zeiss.com/meditec/int/home.html. The company is listed under the stock ticker AFX_X."
   ]
  },
  {
   "cell_type": "markdown",
   "metadata": {},
   "source": [
    "You can find the detailed Nasdaq Data API instructions here: https://docs.data.nasdaq.com/docs/in-depth-usage"
   ]
  },
  {
   "cell_type": "markdown",
   "metadata": {},
   "source": [
    "While there is a dedicated Python package for connecting to the Nasdaq API, we would prefer that you use the *requests* package, which can be easily downloaded using *pip* or *conda*. You can find the documentation for the package here: http://docs.python-requests.org/en/master/ "
   ]
  },
  {
   "cell_type": "markdown",
   "metadata": {},
   "source": [
    "Finally, apart from the *requests* package, you are encouraged to not use any third party Python packages, such as *pandas*, and instead focus on what's available in the Python Standard Library (the *collections* module might come in handy: https://pymotw.com/3/collections/).\n",
    "Also, since you won't have access to DataFrames, you are encouraged to us Python's native data structures - preferably dictionaries, though some questions can also be answered using lists.\n",
    "You can read more on these data structures here: https://docs.python.org/3/tutorial/datastructures.html"
   ]
  },
  {
   "cell_type": "markdown",
   "metadata": {},
   "source": [
    "Keep in mind that the JSON responses you will be getting from the API map almost one-to-one to Python's dictionaries. Unfortunately, they can be very nested, so make sure you read up on indexing dictionaries in the documentation provided above."
   ]
  },
  {
   "cell_type": "code",
   "execution_count": 2,
   "metadata": {},
   "outputs": [],
   "source": [
    "# First, import the relevant modules\n",
    "import requests\n",
    "import json"
   ]
  },
  {
   "cell_type": "markdown",
   "metadata": {},
   "source": [
    "Note: API's can change a bit with each version, for this exercise it is reccomended to use the nasdaq api at `https://data.nasdaq.com/api/v3/`. This is the same api as what used to be quandl so `https://www.quandl.com/api/v3/` should work too.\n",
    "\n",
    "Hint: We are looking for the `AFX_X` data on the `datasets/FSE/` dataset."
   ]
  },
  {
   "cell_type": "code",
   "execution_count": 3,
   "metadata": {},
   "outputs": [],
   "source": [
    "# Now, call the Quandl API and pull out a small sample of the data (only one day) to get a glimpse\n",
    "# into the JSON structure that will be returned\n",
    "url = 'https://data.nasdaq.com/api/v3/datasets/FSE/AFX_X.json?start_date=2020-06-01&api_key='+API_KEY\n",
    "r = requests.get(url)\n",
    "json_data = r.json()"
   ]
  },
  {
   "cell_type": "code",
   "execution_count": 4,
   "metadata": {},
   "outputs": [
    {
     "name": "stdout",
     "output_type": "stream",
     "text": [
      "{'dataset': {'id': 10095370, 'dataset_code': 'AFX_X', 'database_code': 'FSE', 'name': 'Carl Zeiss Meditec (AFX_X)', 'description': 'Stock Prices for Carl Zeiss Meditec (2020-11-02) from the Frankfurt Stock Exchange.<br><br>Trading System: Xetra<br><br>ISIN: DE0005313704', 'refreshed_at': '2020-12-01T14:48:09.907Z', 'newest_available_date': '2020-12-01', 'oldest_available_date': '2000-06-07', 'column_names': ['Date', 'Open', 'High', 'Low', 'Close', 'Change', 'Traded Volume', 'Turnover', 'Last Price of the Day', 'Daily Traded Units', 'Daily Turnover'], 'frequency': 'daily', 'type': 'Time Series', 'premium': False, 'limit': None, 'transform': None, 'column_index': None, 'start_date': '2020-06-01', 'end_date': '2020-12-01', 'data': [['2020-12-01', 112.2, 112.2, 111.5, 112.0, None, 51.0, 5703.0, None, None, None], ['2020-11-30', 111.0, 113.6, 111.0, 112.1, None, 315.0, 35111.5, None, None, None], ['2020-11-27', 111.0, 111.5, 109.5, 111.2, None, 155.0, 17168.5, None, None, None], ['2020-11-26', 111.3, 112.0, 110.5, 111.6, None, 254.0, 28367.5, None, None, None], ['2020-11-25', 111.4, 111.4, 110.1, 110.1, None, 294.0, 32435.8, None, None, None], ['2020-11-24', 116.1, 116.8, 110.5, 113.5, None, 3184.0, 361404.4, None, None, None], ['2020-11-23', 118.0, 118.8, 116.3, 116.3, None, 1590.0, 187525.0, None, None, None], ['2020-11-20', 116.5, 118.0, 116.5, 117.5, None, 295.0, 34736.0, None, None, None], ['2020-11-19', 115.6, 115.6, 115.6, 115.6, None, 0.0, 0.0, None, None, None], ['2020-11-18', 115.8, 115.8, 115.0, 115.0, None, 25.0, 2875.0, None, None, None], ['2020-11-17', 117.9, 117.9, 115.7, 115.7, None, 381.0, 44235.6, None, None, None], ['2020-11-16', 118.9, 119.8, 118.1, 118.1, None, 266.0, 31637.8, None, None, None], ['2020-11-13', 115.4, 117.2, 115.4, 117.2, None, 162.0, 18892.3, None, None, None], ['2020-11-12', 117.1, 117.5, 116.4, 116.4, None, 185.0, 21587.5, None, None, None], ['2020-11-11', 115.0, 117.3, 115.0, 116.9, None, 353.0, 41227.0, None, None, None], ['2020-11-10', 118.4, 118.4, 114.6, 114.6, None, 93.0, 10801.6, None, None, None], ['2020-11-09', 116.1, 119.9, 116.1, 119.4, None, 494.0, 58880.6, None, None, None], ['2020-11-06', 115.2, 115.8, 114.8, 115.1, None, 190.0, 21831.0, None, None, None], ['2020-11-05', 114.7, 116.2, 114.7, 115.4, None, 382.0, 44272.4, None, None, None], ['2020-11-04', 109.8, 113.8, 109.8, 113.8, None, 69.0, 7804.7, None, None, None], ['2020-11-03', 108.4, 110.0, 108.4, 110.0, None, 176.0, 19259.0, None, None, None], ['2020-11-02', 111.3, 111.6, 108.1, 108.1, None, 362.0, 39844.5, None, None, None], ['2020-10-30', 107.2, 112.9, 107.2, 110.7, None, 99.0, 11001.5, None, None, None], ['2020-10-29', 112.1, 113.0, 106.7, 109.5, None, 395.0, 43369.2, None, None, None], ['2020-10-28', 113.7, 113.7, 106.1, 111.8, None, 861.0, 94248.9, None, None, None], ['2020-10-27', 115.6, 115.8, 114.9, 114.9, None, 360.0, 41598.0, None, None, None], ['2020-10-26', 117.5, 117.5, 113.4, 113.7, None, 694.0, 80177.1, None, None, None], ['2020-10-23', 120.4, 121.1, 115.0, 118.5, None, 813.0, 96193.0, None, None, None], ['2020-10-22', 119.5, 121.9, 118.8, 121.5, None, 260.0, 31396.4, None, None, None], ['2020-10-21', 121.8, 121.9, 119.9, 120.6, None, 2148.0, 258027.5, None, None, None], ['2020-10-20', 122.1, 123.2, 121.8, 123.2, None, 55.0, 6706.0, None, None, None], ['2020-10-19', 121.6, 123.7, 121.6, 122.8, None, 264.0, 32417.3, None, None, None], ['2020-10-16', 118.6, 122.4, 118.6, 121.4, None, 320.0, 39037.3, None, None, None], ['2020-10-15', 121.0, 121.2, 118.5, 118.7, None, 853.0, 102179.6, None, None, None], ['2020-10-14', 118.6, 122.1, 118.6, 122.1, None, 507.0, 61486.3, None, None, None], ['2020-10-13', 120.3, 120.9, 117.8, 118.7, None, 351.0, 41428.7, None, None, None], ['2020-10-12', 115.8, 120.6, 115.8, 120.5, None, 331.0, 39564.3, None, None, None], ['2020-10-09', 114.0, 116.2, 113.9, 116.2, None, 1298.0, 149551.9, None, None, None], ['2020-10-08', 112.1, 114.5, 112.1, 114.5, None, 392.0, 44587.1, None, None, None], ['2020-10-07', 112.0, 112.7, 111.3, 112.7, None, 202.0, 22687.6, None, None, None], ['2020-10-06', 110.4, 111.8, 110.4, 111.8, None, 450.0, 50030.0, None, None, None], ['2020-10-05', 109.3, 110.9, 109.3, 110.9, None, 64.0, 7068.6, None, None, None], ['2020-10-02', 108.0, 109.6, 108.0, 109.6, None, 177.0, 19153.5, None, None, None], ['2020-10-01', 108.1, 109.5, 108.1, 109.5, None, 70.0, 7650.0, None, None, None], ['2020-09-30', 108.6, 108.6, 106.8, 106.8, None, 271.0, 29094.6, None, None, None], ['2020-09-29', 106.9, 109.4, 106.9, 109.4, None, 76.0, 8253.9, None, None, None], ['2020-09-28', 105.0, 107.3, 105.0, 107.1, None, 472.0, 50326.6, None, None, None], ['2020-09-25', 103.2, 104.4, 103.0, 103.7, None, 763.0, 78994.1, None, None, None], ['2020-09-24', 100.5, 103.8, 100.5, 103.8, None, 152.0, 15708.0, None, None, None], ['2020-09-23', 101.0, 101.7, 100.6, 101.7, None, 368.0, 37374.3, None, None, None], ['2020-09-22', 98.5, 100.0, 98.5, 100.0, None, 190.0, 18865.0, None, None, None], ['2020-09-21', 101.7, 101.7, 98.2, 98.2, None, 300.0, 30299.0, None, None, None], ['2020-09-18', 100.1, 101.2, 100.1, 101.2, None, 209.0, 21100.8, None, None, None], ['2020-09-17', 96.1, 102.0, 96.0, 102.0, None, 433.0, 42836.5, None, None, None], ['2020-09-16', 93.1, 95.95, 93.1, 95.95, None, 45.0, 4241.25, None, None, None], ['2020-09-15', 92.5, 92.5, 92.15, 92.4, None, 167.0, 15414.45, None, None, None], ['2020-09-14', 93.1, 93.1, 93.0, 93.0, None, 25.0, 2326.0, None, None, None], ['2020-09-11', 93.85, 93.85, 92.5, 92.5, None, 70.0, 6475.0, None, None, None], ['2020-09-10', 95.6, 95.6, 94.55, 94.55, None, 110.0, 10495.5, None, None, None], ['2020-09-09', 94.75, 95.85, 94.4, 95.85, None, 411.0, 38950.25, None, None, None], ['2020-09-08', 96.3, 96.3, 93.3, 94.75, None, 165.0, 15516.5, None, None, None], ['2020-09-07', 93.5, 95.95, 93.5, 95.95, None, 160.0, 15074.5, None, None, None], ['2020-09-04', 94.5, 94.5, 93.15, 93.15, None, 350.0, 32790.25, None, None, None], ['2020-09-03', 99.1, 99.1, 94.8, 95.0, None, 382.0, 36699.7, None, None, None], ['2020-09-02', 94.75, 99.05, 94.75, 98.75, None, 582.0, 56936.55, None, None, None], ['2020-09-01', 94.6, 95.0, 94.55, 94.55, None, 385.0, 36427.5, None, None, None], ['2020-08-31', 94.75, 94.75, 94.35, 94.35, None, 175.0, 16541.25, None, None, None], ['2020-08-28', 95.0, 95.5, 93.8, 95.3, None, 98882.0, 9370950.35, None, None, None], ['2020-08-27', 95.7, 96.0, 94.5, 94.8, None, 142753.0, 13576918.75, None, None, None], ['2020-08-26', 94.25, 95.5, 94.05, 95.4, None, 82485.0, 7827754.45, None, None, None], ['2020-08-25', 93.85, 94.75, 93.45, 94.5, None, 89082.0, 8397454.8, None, None, None], ['2020-08-24', 92.3, 94.5, 92.3, 93.5, None, 119117.0, 11168837.75, None, None, None], ['2020-08-21', 92.15, 92.2, 90.65, 91.9, None, 65210.0, 5976477.15, None, None, None], ['2020-08-20', 91.0, 92.4, 90.45, 92.15, None, 95493.0, 8763119.9, None, None, None], ['2020-08-19', 91.0, 92.2, 90.0, 91.65, None, 88102.0, 8063097.4, None, None, None], ['2020-08-18', 91.55, 92.0, 90.4, 91.0, None, 85470.0, 7789882.4, None, None, None], ['2020-08-17', 91.6, 91.95, 90.55, 91.9, None, 58566.0, 5357104.3, None, None, None], ['2020-08-14', 92.9, 93.25, 91.35, 91.85, None, 78700.0, 7257628.1, None, None, None], ['2020-08-13', 92.2, 93.0, 91.1, 92.85, None, 98209.0, 9080452.6, None, None, None], ['2020-08-12', 90.8, 92.95, 88.3, 92.65, None, 182444.0, 16598657.95, None, None, None], ['2020-08-11', 94.9, 95.4, 90.35, 90.75, None, 168948.0, 15524389.1, None, None, None], ['2020-08-10', 94.0, 96.0, 93.75, 94.55, None, 183320.0, 17388579.4, None, None, None], ['2020-08-07', 90.2, 93.15, 89.8, 92.95, None, 109450.0, 10126152.1, None, None, None], ['2020-08-06', 91.45, 92.0, 90.35, 91.1, None, 140089.0, 12778666.3, None, None, None], ['2020-08-05', 89.85, 91.85, 88.75, 91.85, None, 147638.0, 13413298.3, None, None, None], ['2020-08-04', 90.5, 91.1, 88.25, 89.05, None, 110318.0, 9813561.0, None, None, None], ['2020-08-03', 89.0, 90.5, 88.2, 90.0, None, 95661.0, 8591521.9, None, None, None], ['2020-07-31', 89.4, 90.95, 88.5, 88.65, None, 145927.0, 13058046.1, None, None, None], ['2020-07-30', 91.7, 91.75, 88.1, 89.6, None, 182764.0, 16464224.8, None, None, None], ['2020-07-29', 88.55, 92.25, 88.2, 92.25, None, 169549.0, 15522318.75, None, None, None], ['2020-07-28', 89.5, 89.75, 88.35, 88.85, None, 116461.0, 10345922.4, None, None, None], ['2020-07-27', 88.0, 89.55, 87.35, 89.15, None, 102146.0, 9082131.05, None, None, None], ['2020-07-24', 90.5, 90.5, 87.85, 87.9, None, 177031.0, 15683394.95, None, None, None], ['2020-07-23', 88.4, 91.55, 88.15, 91.55, None, 146866.0, 13280553.85, None, None, None], ['2020-07-22', 88.6, 89.1, 87.4, 88.75, None, 101234.0, 8954258.2, None, None, None], ['2020-07-21', 89.55, 89.95, 87.75, 88.5, None, 195028.0, 17331900.8, None, None, None], ['2020-07-20', 88.25, 89.5, 87.55, 88.95, None, 227635.0, 20134893.65, None, None, None], ['2020-07-17', 89.15, 90.5, 88.0, 88.4, None, 163078.0, 14464839.25, None, None, None], ['2020-07-16', 90.65, 90.65, 87.9, 88.95, None, 197755.0, 17652520.05, None, None, None], ['2020-07-15', 90.0, 91.7, 86.3, 91.7, None, 258220.0, 23077220.7, None, None, None], ['2020-07-14', 90.1, 90.15, 88.1, 89.2, None, 183507.0, 16350975.75, None, None, None], ['2020-07-13', 90.45, 91.15, 88.6, 91.05, None, 87454.0, 7915927.0, None, None, None], ['2020-07-10', 89.25, 91.55, 88.9, 89.9, None, 93540.0, 8453243.25, None, None, None], ['2020-07-09', 91.15, 91.35, 89.45, 89.55, None, 181776.0, 16405326.65, None, None, None], ['2020-07-08', 92.0, 92.55, 90.15, 90.3, None, 153582.0, 13970079.05, None, None, None], ['2020-07-07', 92.95, 93.65, 91.15, 92.5, None, 153153.0, 14109118.8, None, None, None], ['2020-07-06', 93.8, 93.9, 92.8, 93.8, None, 98508.0, 9199714.85, None, None, None], ['2020-07-03', 93.1, 93.85, 91.9, 92.35, None, 114471.0, 10617857.55, None, None, None], ['2020-07-02', 89.75, 93.8, 88.8, 92.85, None, 365676.0, 33662061.9, None, None, None], ['2020-07-01', 86.2, 89.25, 86.0, 89.25, None, 106604.0, 9438618.8, None, None, None], ['2020-06-30', 87.0, 87.15, 85.0, 86.8, None, 138372.0, 11944211.15, None, None, None], ['2020-06-29', 88.0, 88.85, 86.5, 87.05, None, 76589.0, 6688133.9, None, None, None], ['2020-06-26', 88.2, 89.4, 86.65, 88.05, None, 123809.0, 10922723.5, None, None, None], ['2020-06-25', 86.25, 88.25, 84.8, 87.8, None, 118166.0, 10302946.05, None, None, None], ['2020-06-24', 90.05, 90.25, 86.2, 86.2, None, 115847.0, 10143798.5, None, None, None], ['2020-06-23', 89.2, 91.0, 88.6, 89.95, None, 112453.0, 10108636.8, None, None, None], ['2020-06-22', 90.35, 90.7, 87.85, 88.55, None, 116991.0, 10394476.9, None, None, None], ['2020-06-19', 90.55, 91.8, 90.0, 91.25, None, 174766.0, 15936379.65, None, None, None], ['2020-06-18', 91.6, 91.85, 89.6, 90.05, None, 98019.0, 8859710.65, None, None, None], ['2020-06-17', 90.55, 92.15, 89.7, 91.45, None, 149331.0, 13655800.2, None, None, None], ['2020-06-16', 88.35, 90.75, 87.45, 90.65, None, 206243.0, 18478591.35, None, None, None], ['2020-06-15', 85.0, 86.9, 84.75, 86.35, None, 181008.0, 15502164.95, None, None, None], ['2020-06-12', 85.65, 87.9, 84.85, 86.4, None, 137604.0, 11931180.75, None, None, None], ['2020-06-11', 87.0, 87.65, 85.55, 86.3, None, 127406.0, 11026683.1, None, None, None], ['2020-06-10', 89.25, 90.1, 87.0, 87.8, None, 192426.0, 16965135.2, None, None, None], ['2020-06-09', 91.65, 93.25, 89.2, 89.35, None, 209173.0, 18983014.7, None, None, None], ['2020-06-08', 92.65, 92.65, 89.8, 91.7, None, 172403.0, 15698539.85, None, None, None], ['2020-06-05', 91.6, 93.3, 90.65, 93.15, None, 185077.0, 17116028.75, None, None, None], ['2020-06-04', 92.3, 92.8, 89.65, 91.4, None, 238456.0, 21679333.75, None, None, None], ['2020-06-03', 91.15, 93.3, 89.65, 92.9, None, 144255.0, 13282471.95, None, None, None], ['2020-06-02', 93.3, 93.5, 89.5, 91.0, None, 165446.0, 15036505.55, None, None, None]], 'collapse': None, 'order': None, 'database_id': 6129}}\n"
     ]
    }
   ],
   "source": [
    "# Inspect the JSON structure of the object you created, and take note of how nested it is,\n",
    "# as well as the overall structure\n",
    "print(json_data)"
   ]
  },
  {
   "cell_type": "markdown",
   "metadata": {},
   "source": [
    "These are your tasks for this mini project:\n",
    "\n",
    "1. Collect data from the Franfurt Stock Exchange, for the ticker AFX_X, for the whole year 2017 (keep in mind that the date format is YYYY-MM-DD).\n",
    "2. Convert the returned JSON object into a Python dictionary.\n",
    "3. Calculate what the highest and lowest opening prices were for the stock in this period.\n",
    "4. What was the largest change in any one day (based on High and Low price)?\n",
    "5. What was the largest change between any two days (based on Closing Price)?\n",
    "6. What was the average daily trading volume during this year?\n",
    "7. (Optional) What was the median trading volume during this year. (Note: you may need to implement your own function for calculating the median.)"
   ]
  },
  {
   "cell_type": "code",
   "execution_count": 5,
   "metadata": {},
   "outputs": [
    {
     "data": {
      "text/plain": [
       "dict"
      ]
     },
     "execution_count": 5,
     "metadata": {},
     "output_type": "execute_result"
    }
   ],
   "source": [
    "# Collect Data from API for FSE, AFX_X, Year 2017\n",
    "url2017 = 'https://data.nasdaq.com/api/v3/datasets/FSE/AFX_X.json?start_date=2017-01-01&end_date=2017-12-31&api_key='+API_KEY\n",
    "r2017 = requests.get(url2017)\n",
    "\n",
    "# Make json object a dictionary\n",
    "data_2017 = r2017.json()\n",
    "type(json_data)"
   ]
  },
  {
   "cell_type": "code",
   "execution_count": 6,
   "metadata": {},
   "outputs": [
    {
     "data": {
      "text/plain": [
       "['Date',\n",
       " 'Open',\n",
       " 'High',\n",
       " 'Low',\n",
       " 'Close',\n",
       " 'Change',\n",
       " 'Traded Volume',\n",
       " 'Turnover',\n",
       " 'Last Price of the Day',\n",
       " 'Daily Traded Units',\n",
       " 'Daily Turnover']"
      ]
     },
     "execution_count": 6,
     "metadata": {},
     "output_type": "execute_result"
    }
   ],
   "source": [
    "#Find column names to know how data is listed\n",
    "data_2017['dataset']['column_names']"
   ]
  },
  {
   "cell_type": "code",
   "execution_count": 7,
   "metadata": {},
   "outputs": [
    {
     "name": "stdout",
     "output_type": "stream",
     "text": [
      "Min Open Price was $34.0\n",
      "Max Open Price was $53.11\n"
     ]
    }
   ],
   "source": [
    "#Calculate what the highest and lowest opening prices were for the stock in this period.\n",
    "open_idx = data_2017['dataset']['column_names'].index('Open')\n",
    "open_price = []\n",
    "\n",
    "for i in range(len(data_2017['dataset']['data'])):\n",
    "    price = data_2017['dataset']['data'][i][open_idx]\n",
    "    if price != None:\n",
    "        open_price.append(price)\n",
    "        \n",
    "max_open = max(open_price)\n",
    "min_open = min(open_price)\n",
    "print('Min Open Price was $' + str(min_open))\n",
    "print('Max Open Price was $' + str(max_open))"
   ]
  },
  {
   "cell_type": "code",
   "execution_count": 8,
   "metadata": {},
   "outputs": [
    {
     "name": "stdout",
     "output_type": "stream",
     "text": [
      "Largest change in one day was 2.8100000000000023 points\n"
     ]
    }
   ],
   "source": [
    "# Largest Change in One Day based on High and Low price\n",
    "high_idx = data_2017['dataset']['column_names'].index('High')\n",
    "low_idx = data_2017['dataset']['column_names'].index('Low')\n",
    "delta_oneday = []\n",
    "\n",
    "for i in range(len(data_2017['dataset']['data'])):\n",
    "    high_price = data_2017['dataset']['data'][i][high_idx]\n",
    "    low_price = data_2017['dataset']['data'][i][low_idx]\n",
    "    if type(high_price) == float and type(low_price)==float:\n",
    "        delta_oneday.append(high_price - low_price)\n",
    "        \n",
    "max_delta_oneday = max(delta_oneday)\n",
    "print('Largest change in one day was ' + str(max_delta_oneday) + ' points')"
   ]
  },
  {
   "cell_type": "code",
   "execution_count": 9,
   "metadata": {},
   "outputs": [
    {
     "name": "stdout",
     "output_type": "stream",
     "text": [
      "Largest change between two days was 1.6899999999999977 points\n"
     ]
    }
   ],
   "source": [
    "#Largest change between any two days (based on Closing Price)\n",
    "close_idx = data_2017['dataset']['column_names'].index('Close')\n",
    "delta_twoday = []\n",
    "\n",
    "for i in range(len(data_2017['dataset']['data'])):\n",
    "    close_price = data_2017['dataset']['data'][i][close_idx]\n",
    "    open_price = data_2017['dataset']['data'][i][open_idx]\n",
    "    if type(close_price) == float and type(open_price) == float:\n",
    "        delta_twoday.append(open_price - close_price)\n",
    "        \n",
    "max_delta_twoday = max(delta_twoday)\n",
    "print('Largest change between two days was ' + str(max_delta_twoday) + ' points')"
   ]
  },
  {
   "cell_type": "code",
   "execution_count": 10,
   "metadata": {},
   "outputs": [
    {
     "name": "stdout",
     "output_type": "stream",
     "text": [
      "The average traded volume in 2017 was 89124.33725490196 units\n"
     ]
    }
   ],
   "source": [
    "#Average daily trading volume in 2017\n",
    "volume_idx = data_2017['dataset']['column_names'].index('Traded Volume')\n",
    "traded_vol = []\n",
    "\n",
    "for i in range(len(data_2017['dataset']['data'])):\n",
    "    vol = data_2017['dataset']['data'][i][volume_idx]\n",
    "    if vol != None:\n",
    "        traded_vol.append(vol)\n",
    "        \n",
    "avg_vol = sum(traded_vol) / len(traded_vol)\n",
    "\n",
    "print('The average traded volume in 2017 was ' + str(avg_vol) + ' units')"
   ]
  },
  {
   "cell_type": "code",
   "execution_count": 11,
   "metadata": {},
   "outputs": [
    {
     "name": "stdout",
     "output_type": "stream",
     "text": [
      "The median daily trading volume was 126065.0 units\n"
     ]
    }
   ],
   "source": [
    "# Median trading volume in 2017\n",
    "\n",
    "mid_idx = len(traded_vol)/2\n",
    "\n",
    "if mid_idx == int(mid_idx):\n",
    "    median_vol = traded_vol[mid_idx]\n",
    "else: median_vol = (traded_vol[int(mid_idx+0.5)] + traded_vol[int(mid_idx-0.5)])/2\n",
    "        \n",
    "print('The median daily trading volume was ' + str(median_vol) + ' units')"
   ]
  },
  {
   "cell_type": "code",
   "execution_count": null,
   "metadata": {},
   "outputs": [],
   "source": []
  },
  {
   "cell_type": "code",
   "execution_count": null,
   "metadata": {},
   "outputs": [],
   "source": []
  }
 ],
 "metadata": {
  "interpreter": {
   "hash": "7635eb1b9d0fe97add78a7368b6b431c09bb8ad5c42e437d64abdd99821c31ae"
  },
  "kernelspec": {
   "display_name": "Python 3 (ipykernel)",
   "language": "python",
   "name": "python3"
  },
  "language_info": {
   "codemirror_mode": {
    "name": "ipython",
    "version": 3
   },
   "file_extension": ".py",
   "mimetype": "text/x-python",
   "name": "python",
   "nbconvert_exporter": "python",
   "pygments_lexer": "ipython3",
   "version": "3.9.7"
  }
 },
 "nbformat": 4,
 "nbformat_minor": 4
}
